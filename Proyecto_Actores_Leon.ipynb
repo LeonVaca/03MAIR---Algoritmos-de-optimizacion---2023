{
  "nbformat": 4,
  "nbformat_minor": 0,
  "metadata": {
    "colab": {
      "provenance": [],
      "authorship_tag": "ABX9TyOuf/FJLjj1SiwK5Oe8kX89",
      "include_colab_link": true
    },
    "kernelspec": {
      "name": "python3",
      "display_name": "Python 3"
    },
    "language_info": {
      "name": "python"
    }
  },
  "cells": [
    {
      "cell_type": "markdown",
      "metadata": {
        "id": "view-in-github",
        "colab_type": "text"
      },
      "source": [
        "<a href=\"https://colab.research.google.com/github/LeonVaca/03MAIR---Algoritmos-de-optimizacion---2023/blob/main/Proyecto_Actores_Leon.ipynb\" target=\"_parent\"><img src=\"https://colab.research.google.com/assets/colab-badge.svg\" alt=\"Open In Colab\"/></a>"
      ]
    },
    {
      "cell_type": "markdown",
      "source": [
        "# Algoritmos de optimización - Seminario<br>\n",
        "IVAN RODRIGO LEON VACA:   <br>\n",
        "Url:https://github.com/LeonVaca/03MAIR---Algoritmos-de-optimizacion---2023/blob/main/Proyecto_Actores_Leon.ipynb <br>\n",
        "Problema:\n",
        "> 1. Sesiones de doblaje <br>\n",
        "\n",
        "\n",
        "\n",
        "Descripción del problema: Se precisa coordinar el doblaje de una película. Los actores del doblaje deben coincidir en las tomas en las que sus personajes aparecen juntos en las diferentes tomas. Los actores de doblaje cobran todos la misma cantidad por cada dia que deben desplazarse hasta el estudio de 6 tomas por día. El objetivo es planificar las sesiones por día de manera que al gasto por los servicios de los actores de doblaje sea el menor posible. Los datos son:\n",
        ">Número de actores: 10<br>\n",
        ">Número de tomas: 30<br>\n",
        ">Actores y tomas:https://docs.google.com/spreadsheets/d/1Ipn6IrbQP4ax8zOnivdBIw2lN0JISkJG4fXndYd27U0/edit#gid=0 <br>\n",
        "\n",
        ">-1 indica que el actor participa en la toma<br>\n",
        ">-0 en caso contrario<br>\n",
        "\n",
        "(*) La respuesta es obligatoria\n"
      ],
      "metadata": {
        "id": "OS1fc6rfrE6Y"
      }
    },
    {
      "cell_type": "code",
      "source": [
        "import numpy as np\n",
        "\n",
        "data = np.array([\n",
        "    [1, 1, 1, 1, 1, 0, 0, 0, 0, 0],\n",
        "    [0, 0, 1, 1, 1, 0, 0, 0, 0, 0],\n",
        "    [0, 1, 0, 0, 1, 0, 1, 0, 0, 0],\n",
        "    [1, 1, 0, 0, 0, 0, 1, 1, 0, 0],\n",
        "    [0, 1, 0, 1, 0, 0, 0, 1, 0, 0],\n",
        "    [1, 1, 0, 1, 1, 0, 0, 0, 0, 0],\n",
        "    [1, 1, 0, 1, 1, 0, 0, 0, 0, 0],\n",
        "    [1, 1, 0, 0, 0, 1, 0, 0, 0, 0],\n",
        "    [1, 1, 0, 1, 0, 0, 0, 0, 0, 0],\n",
        "    [1, 1, 0, 0, 0, 1, 0, 0, 1, 0],\n",
        "    [1, 1, 1, 0, 1, 0, 0, 1, 0, 0],\n",
        "    [1, 1, 1, 1, 0, 1, 0, 0, 0, 0],\n",
        "    [1, 0, 0, 1, 1, 0, 0, 0, 0, 0],\n",
        "    [1, 0, 1, 0, 0, 1, 0, 0, 0, 0],\n",
        "    [1, 1, 0, 0, 0, 0, 1, 0, 0, 0],\n",
        "    [0, 0, 0, 1, 0, 0, 0, 0, 0, 1],\n",
        "    [1, 0, 1, 0, 0, 0, 0, 0, 0, 0],\n",
        "    [0, 0, 1, 0, 0, 1, 0, 0, 0, 0],\n",
        "    [1, 0, 1, 0, 0, 0, 0, 0, 0, 0],\n",
        "    [1, 0, 1, 1, 1, 0, 0, 0, 0, 0],\n",
        "    [0, 0, 0, 0, 0, 1, 0, 1, 0, 0],\n",
        "    [1, 1, 1, 1, 0, 0, 0, 0, 0, 0],\n",
        "    [1, 0, 1, 0, 0, 0, 0, 0, 0, 0],\n",
        "    [0, 0, 1, 0, 0, 1, 0, 0, 0, 0],\n",
        "    [1, 1, 0, 1, 0, 0, 0, 0, 0, 1],\n",
        "    [1, 0, 1, 0, 1, 0, 0, 0, 1, 0],\n",
        "    [0, 0, 0, 1, 1, 0, 0, 0, 0, 0],\n",
        "    [1, 0, 0, 1, 0, 0, 0, 0, 0, 0],\n",
        "    [1, 0, 0, 0, 1, 1, 0, 0, 0, 0],\n",
        "    [1, 0, 0, 1, 0, 0, 0, 0, 0, 0]\n",
        "])\n",
        "\n",
        "def greedy(data):\n",
        "    ntomas, nactores = data.shape\n",
        "    tomas = [False] * ntomas\n",
        "    actores = [False] * nactores\n",
        "    asignacion = [[0 for _ in range(nactores)] for _ in range(ntomas)]\n",
        "    costo_total = 0\n",
        "\n",
        "    for dia in range(ntomas // 6):\n",
        "        tomas_dia = [i for i in range(dia * 6, (dia + 1) * 6)]\n",
        "\n",
        "        for toma in tomas_dia:\n",
        "            actores_disponibles = [\n",
        "                actor for actor in range(nactores) if data[toma][actor] == 1 and not actores[actor]\n",
        "            ]\n",
        "            if not actores_disponibles:\n",
        "                continue\n",
        "\n",
        "            actor_seleccionado = actores_disponibles[0]\n",
        "            costo_total += 1\n",
        "            for t in tomas_dia:\n",
        "                asignacion[t][actor_seleccionado] = 1\n",
        "                tomas[t] = True\n",
        "            actores[actor_seleccionado] = True\n",
        "\n",
        "    return asignacion, costo_total\n",
        "\n",
        "asignacion, costo_total = greedy(data)\n",
        "print(\"Asignación:\")\n",
        "for i, row in enumerate(asignacion):\n",
        "    print(f\"toma {i+1}: {row}\")\n",
        "print(f\"coste total= {costo_total}\")\n"
      ],
      "metadata": {
        "colab": {
          "base_uri": "https://localhost:8080/"
        },
        "id": "wyVoOeHq5vjE",
        "outputId": "e7b60a93-2605-4be5-ef1f-57146eb8a559"
      },
      "execution_count": 66,
      "outputs": [
        {
          "output_type": "stream",
          "name": "stdout",
          "text": [
            "Asignación:\n",
            "toma 1: [1, 1, 1, 1, 1, 0, 1, 0, 0, 0]\n",
            "toma 2: [1, 1, 1, 1, 1, 0, 1, 0, 0, 0]\n",
            "toma 3: [1, 1, 1, 1, 1, 0, 1, 0, 0, 0]\n",
            "toma 4: [1, 1, 1, 1, 1, 0, 1, 0, 0, 0]\n",
            "toma 5: [1, 1, 1, 1, 1, 0, 1, 0, 0, 0]\n",
            "toma 6: [1, 1, 1, 1, 1, 0, 1, 0, 0, 0]\n",
            "toma 7: [0, 0, 0, 0, 0, 1, 0, 1, 1, 0]\n",
            "toma 8: [0, 0, 0, 0, 0, 1, 0, 1, 1, 0]\n",
            "toma 9: [0, 0, 0, 0, 0, 1, 0, 1, 1, 0]\n",
            "toma 10: [0, 0, 0, 0, 0, 1, 0, 1, 1, 0]\n",
            "toma 11: [0, 0, 0, 0, 0, 1, 0, 1, 1, 0]\n",
            "toma 12: [0, 0, 0, 0, 0, 1, 0, 1, 1, 0]\n",
            "toma 13: [0, 0, 0, 0, 0, 0, 0, 0, 0, 1]\n",
            "toma 14: [0, 0, 0, 0, 0, 0, 0, 0, 0, 1]\n",
            "toma 15: [0, 0, 0, 0, 0, 0, 0, 0, 0, 1]\n",
            "toma 16: [0, 0, 0, 0, 0, 0, 0, 0, 0, 1]\n",
            "toma 17: [0, 0, 0, 0, 0, 0, 0, 0, 0, 1]\n",
            "toma 18: [0, 0, 0, 0, 0, 0, 0, 0, 0, 1]\n",
            "toma 19: [0, 0, 0, 0, 0, 0, 0, 0, 0, 0]\n",
            "toma 20: [0, 0, 0, 0, 0, 0, 0, 0, 0, 0]\n",
            "toma 21: [0, 0, 0, 0, 0, 0, 0, 0, 0, 0]\n",
            "toma 22: [0, 0, 0, 0, 0, 0, 0, 0, 0, 0]\n",
            "toma 23: [0, 0, 0, 0, 0, 0, 0, 0, 0, 0]\n",
            "toma 24: [0, 0, 0, 0, 0, 0, 0, 0, 0, 0]\n",
            "toma 25: [0, 0, 0, 0, 0, 0, 0, 0, 0, 0]\n",
            "toma 26: [0, 0, 0, 0, 0, 0, 0, 0, 0, 0]\n",
            "toma 27: [0, 0, 0, 0, 0, 0, 0, 0, 0, 0]\n",
            "toma 28: [0, 0, 0, 0, 0, 0, 0, 0, 0, 0]\n",
            "toma 29: [0, 0, 0, 0, 0, 0, 0, 0, 0, 0]\n",
            "toma 30: [0, 0, 0, 0, 0, 0, 0, 0, 0, 0]\n",
            "coste total= 10\n"
          ]
        }
      ]
    },
    {
      "cell_type": "markdown",
      "source": [
        "### (*)¿Cuantas posibilidades hay sin tener en cuenta las restricciones?"
      ],
      "metadata": {
        "id": "CakoJAOx-_gN"
      }
    },
    {
      "cell_type": "code",
      "source": [
        "import itertools #libreria para generar combinaciones\n",
        "\n",
        "data = [\n",
        "    [1, 1, 1, 1, 1, 0, 0, 0, 0, 0],\n",
        "    [0, 0, 1, 1, 1, 0, 0, 0, 0, 0],\n",
        "\n",
        "]\n",
        "\n",
        "def generar_posibilidades(data):\n",
        "    tomas, actores = len(data), len(data[0])\n",
        "    posibilidades = []\n",
        "\n",
        "    for asignacion in itertools.product([0, 1], repeat=tomas * actores):\n",
        "        asignacion_matriz = [list(asignacion[i:i+actores]) for i in range(0, len(asignacion), actores)]\n",
        "        posibilidades.append(asignacion_matriz)\n",
        "\n",
        "    return posibilidades\n",
        "\n",
        "posibilidades = generar_posibilidades(data)\n",
        "\n",
        "print(f\"posibilidades sin restricciones= {len(posibilidades)}\")\n",
        "\n"
      ],
      "metadata": {
        "colab": {
          "base_uri": "https://localhost:8080/"
        },
        "id": "jx7syrvB_K2e",
        "outputId": "7f263049-281f-44b9-ce88-55c5db0e5d34"
      },
      "execution_count": 56,
      "outputs": [
        {
          "output_type": "stream",
          "name": "stdout",
          "text": [
            "posibilidades sin restricciones: 1048576\n"
          ]
        }
      ]
    },
    {
      "cell_type": "markdown",
      "source": [
        "En el caso de encontrar el numero de posibilidades sin tener en cuenta las restricciones, se multiplica la cantidad de actores por la cantidad de tomas. Para este caso seria: 10x30 = 300\n",
        "Entonces tenemos 300 posibilidades sin tener en cuenta las restricciones.\n",
        "\n",
        "Pero por motivos del espacio de RAM no se puede ejecutar el codigo ya que seria un valor de 2^300. Entonces se ejecuto solo 2 filas para el analisis."
      ],
      "metadata": {
        "id": "D_uAj05YLHB4"
      }
    },
    {
      "cell_type": "markdown",
      "source": [
        "### ¿Cuantas posibilidades hay teniendo en cuenta todas las restricciones."
      ],
      "metadata": {
        "id": "D7BZu101AaaW"
      }
    },
    {
      "cell_type": "code",
      "source": [
        "import numpy as np\n",
        "\n",
        "data = np.array([\n",
        "    [1, 1, 1, 1, 1, 0, 0, 0, 0, 0],\n",
        "    [0, 0, 1, 1, 1, 0, 0, 0, 0, 0],\n",
        "    [0, 1, 0, 0, 1, 0, 1, 0, 0, 0],\n",
        "    [1, 1, 0, 0, 0, 0, 1, 1, 0, 0],\n",
        "    [0, 1, 0, 1, 0, 0, 0, 1, 0, 0],\n",
        "])\n",
        "\n",
        "actores, tomas = data.shape\n",
        "\n",
        "def costo_dia(asignar):\n",
        "    return np.sum(data[:, asignar])\n",
        "\n",
        "def grasp_asignacion(niteraciones):\n",
        "    mejor_asignacion = None\n",
        "    mejor_costo = float('inf')\n",
        "\n",
        "    for _ in range(niteraciones):\n",
        "        asignar = [np.random.choice(np.where(data[i] == 1)[0]) for i in range(actores)]\n",
        "        costo = costo_dia(asignar)\n",
        "\n",
        "        for _ in range(70):  #iteraciones de busqueda\n",
        "            for i in range(actores): #mejora busqueda local\n",
        "                for j in range(tomas):\n",
        "                    if data[i, j] == 1 and j not in asignar:\n",
        "                        nueva_asignacion = asignar.copy()\n",
        "                        nueva_asignacion[i] = j\n",
        "                        nuevo_costo = costo_dia(nueva_asignacion)\n",
        "\n",
        "                        if nuevo_costo < costo:\n",
        "                            asignacion = nueva_asignacion\n",
        "                            costo = nuevo_costo\n",
        "\n",
        "        if costo < mejor_costo:\n",
        "            mejor_asignacion = asignar\n",
        "            mejor_costo = costo\n",
        "\n",
        "    return mejor_asignacion, mejor_costo\n",
        "\n",
        "iteraciones_grasp = 600\n",
        "\n",
        "asignacion_grasp, costo_grasp = grasp_asignacion(iteraciones_grasp)\n",
        "\n",
        "print(\"GRASP:\")\n",
        "print(asignacion_grasp)\n",
        "print(\"coste total=\", costo_grasp)\n"
      ],
      "metadata": {
        "colab": {
          "base_uri": "https://localhost:8080/"
        },
        "id": "7PpKfJT7MnVe",
        "outputId": "a11d18d8-4cd4-4357-ee3d-7901ce9691c8"
      },
      "execution_count": 64,
      "outputs": [
        {
          "output_type": "stream",
          "name": "stdout",
          "text": [
            "GRASP:\n",
            "[0, 2, 4, 0, 7]\n",
            "coste total= 10\n"
          ]
        }
      ]
    },
    {
      "cell_type": "markdown",
      "source": [
        "### Modelo para el espacio de soluciones\n",
        "### (*) ¿Cual es la estructura de datos que mejor se adapta al problema? Argumentalo.(Es posible que hayas elegido una al principio y veas la necesidad de cambiar, argumentalo)"
      ],
      "metadata": {
        "id": "KNwURP36Nu8H"
      }
    },
    {
      "cell_type": "markdown",
      "source": [
        "La estructura de datos que se utiliza para el problema es una matriz binaria, se muestra en la tabla que las filas representan los actores y las columnas representan las tomas. Como se estan almecenando los datos de forma binaria ejemplo 1= si y 0= no. entonces los datos ocupan mucha memoria.\n",
        "Se debe entender que al momento de acceder a los datos el algoritmo GRASP se ayuda de la matriz binaria para verificar las restricciones y calcular el costo.\n",
        "Al principio se intento utilizar diagramas y grafos para entender el problema. Pero al momento de ejecucion y llegar a una solucion, se complicaba ya que contiene un coste alto y bastantes restricciones por lo que tiene muchos caminos para encontrar una solucion. Entonces se concluyo que es mucho mas facil trabajar directamente con la matriz binaria."
      ],
      "metadata": {
        "id": "dPedz3BVODrK"
      }
    },
    {
      "cell_type": "markdown",
      "source": [
        "### Según el modelo para el espacio de soluciones\n",
        "### (*)¿Cual es la función objetivo?"
      ],
      "metadata": {
        "id": "lYo99dr-SjVA"
      }
    },
    {
      "cell_type": "markdown",
      "source": [
        "La función objetivo en este problema es minimizar el coste total de los servicios de los actores. El objetivo es planificar sesiones por día tal que el gasto por los servicios de los actores sea lo menor posible. La funcion objetivo consiste en calcular la suma del numero de tomas en las que cada actor participa. Por lo tanto, para que el coste total sea menor los actores deben de asistir con menor frecuencia al estudio de grabaciones.\n",
        "\n"
      ],
      "metadata": {
        "id": "tUL2srK_Tego"
      }
    },
    {
      "cell_type": "markdown",
      "source": [
        "### (*)¿Es un problema de maximización o minimización?"
      ],
      "metadata": {
        "id": "QVpcemQUVnkq"
      }
    },
    {
      "cell_type": "markdown",
      "source": [
        "El objetivo del problema, es planificar las sesiones por día de manera que el gasto por los servicios de los actores sea lo menor posible. Cuanto menor sea el número de tomas en las que los actores tienen que participar juntos, menor será el costo total, ya que los actores tendrán que asistir con menor frecuencia al estudio de grabaciones. Por lo tanto, el problema es de minimización."
      ],
      "metadata": {
        "id": "zMSoBAfDVr8I"
      }
    },
    {
      "cell_type": "markdown",
      "source": [
        "### Diseña un algoritmo para resolver el problema por fuerza bruta"
      ],
      "metadata": {
        "id": "1d8vKS4fXOWF"
      }
    },
    {
      "cell_type": "code",
      "source": [
        "import itertools\n",
        "import numpy as np\n",
        "\n",
        "# No es posible con fuerza bruta utilizar todos los datos de la matriz binaria, escogemos solo las primeras 5 filas\n",
        "data = np.array([\n",
        "    [1, 1, 1, 1, 1, 0, 0, 0, 0, 0],\n",
        "    [0, 0, 1, 1, 1, 0, 0, 0, 0, 0],\n",
        "    [0, 1, 0, 0, 1, 0, 1, 0, 0, 0],\n",
        "    [1, 1, 0, 0, 0, 0, 1, 1, 0, 0],\n",
        "    [0, 1, 0, 1, 0, 0, 0, 1, 0, 0],\n",
        "\n",
        "])\n",
        "\n",
        "actores, tomas = data.shape\n",
        "\n",
        "def costo_dia(asignacion):\n",
        "    return np.sum(data[:, asignacion])\n",
        "\n",
        "def fuerza_bruta():\n",
        "    mejor_asignacion = None\n",
        "    mejor_costo = float('inf')\n",
        "\n",
        "    for asignacion in itertools.product(range(tomas), repeat=actores):\n",
        "        if verificar_restricciones(asignacion):\n",
        "            costo = costo_dia(asignacion)\n",
        "            if costo < mejor_costo:\n",
        "                mejor_asignacion = asignacion\n",
        "                mejor_costo = costo\n",
        "\n",
        "    return mejor_asignacion, mejor_costo\n",
        "\n",
        "def verificar_restricciones(asignacion):\n",
        "    for toma in range(tomas):\n",
        "        actores_toma = [i for i in range(actores) if asignacion[i] == toma]\n",
        "        for actor1, actor2 in itertools.combinations(actores_toma, 2):\n",
        "            if data[actor1, toma] == 1 and data[actor2, toma] == 1:\n",
        "                return False\n",
        "    return True\n",
        "\n",
        "asignacion_bruta, costo_bruta = fuerza_bruta()\n",
        "\n",
        "print(\"fuerza bruta:\")\n",
        "print(asignacion_bruta)\n",
        "print(\"coste total=\", costo_bruta)\n"
      ],
      "metadata": {
        "colab": {
          "base_uri": "https://localhost:8080/"
        },
        "id": "4NBUY9n_XeO8",
        "outputId": "d8a620cd-83d7-405d-9b9c-21ee37fced37"
      },
      "execution_count": 62,
      "outputs": [
        {
          "output_type": "stream",
          "name": "stdout",
          "text": [
            "fuerza bruta:\n",
            "(5, 5, 5, 5, 5)\n",
            "coste total= 0\n"
          ]
        }
      ]
    },
    {
      "cell_type": "markdown",
      "source": [
        "### Calcula la complejidad del algoritmo por fuerza bruta"
      ],
      "metadata": {
        "id": "O36oZhmNYO_s"
      }
    },
    {
      "cell_type": "markdown",
      "source": [
        "O(ntomas ^ nactor) * O(nactor ^ 2) = O(ntomas ^ nactor)"
      ],
      "metadata": {
        "id": "HEuYfuSsZEcT"
      }
    },
    {
      "cell_type": "markdown",
      "source": [
        "### (*)Diseña un algoritmo que mejore la complejidad del algortimo por fuerza bruta. Argumenta porque crees que mejora el algoritmo por fuerza bruta"
      ],
      "metadata": {
        "id": "Z2C-Aqv0ZXd8"
      }
    },
    {
      "cell_type": "code",
      "source": [
        "import numpy as np\n",
        "\n",
        "data = np.array([\n",
        "    [1, 1, 1, 1, 1, 0, 0, 0, 0, 0],\n",
        "    [0, 0, 1, 1, 1, 0, 0, 0, 0, 0],\n",
        "    [0, 1, 0, 0, 1, 0, 1, 0, 0, 0],\n",
        "    [1, 1, 0, 0, 0, 0, 1, 1, 0, 0],\n",
        "    [0, 1, 0, 1, 0, 0, 0, 1, 0, 0],\n",
        "])\n",
        "\n",
        "actores, tomas = data.shape\n",
        "\n",
        "def costo_dia(asignar):\n",
        "    return np.sum(data[:, asignar])\n",
        "\n",
        "def grasp_asignacion(niteraciones):\n",
        "    mejor_asignacion = None\n",
        "    mejor_costo = float('inf')\n",
        "\n",
        "    for _ in range(niteraciones):\n",
        "        asignar = [np.random.choice(np.where(data[i] == 1)[0]) for i in range(actores)]\n",
        "        costo = costo_dia(asignar)\n",
        "\n",
        "        for _ in range(70):  #iteraciones de busqueda\n",
        "            for i in range(actores): #mejora busqueda local\n",
        "                for j in range(tomas):\n",
        "                    if data[i, j] == 1 and j not in asignar:\n",
        "                        nueva_asignacion = asignar.copy()\n",
        "                        nueva_asignacion[i] = j\n",
        "                        nuevo_costo = costo_dia(nueva_asignacion)\n",
        "\n",
        "                        if nuevo_costo < costo:\n",
        "                            asignacion = nueva_asignacion\n",
        "                            costo = nuevo_costo\n",
        "\n",
        "        if costo < mejor_costo:\n",
        "            mejor_asignacion = asignar\n",
        "            mejor_costo = costo\n",
        "\n",
        "    return mejor_asignacion, mejor_costo\n",
        "\n",
        "niteraciones_grasp = 600 #iteraciones grasp\n",
        "\n",
        "asignacion_grasp, costo_grasp = grasp_asignacion(niteraciones_grasp)\n",
        "\n",
        "print(\"GRASP:\")\n",
        "print(asignacion_grasp)\n",
        "print(\"coste total:\", costo_grasp)"
      ],
      "metadata": {
        "colab": {
          "base_uri": "https://localhost:8080/"
        },
        "id": "2I9xpMnuaK1I",
        "outputId": "67ee0dc1-6759-4047-ef0e-34f48b7fb301"
      },
      "execution_count": 63,
      "outputs": [
        {
          "output_type": "stream",
          "name": "stdout",
          "text": [
            "GRASP:\n",
            "[2, 2, 1, 7, 7]\n",
            "coste total: 10\n"
          ]
        }
      ]
    },
    {
      "cell_type": "markdown",
      "source": [
        "### (*)Calcula la complejidad del algoritmo"
      ],
      "metadata": {
        "id": "6h5Eh-3radCw"
      }
    },
    {
      "cell_type": "markdown",
      "source": [
        "O(ngrasp * nactor * ntomas)"
      ],
      "metadata": {
        "id": "zKKszRLNagfk"
      }
    },
    {
      "cell_type": "markdown",
      "source": [
        "### Según el problema (y tenga sentido), diseña un juego de datos de entrada aleatorios"
      ],
      "metadata": {
        "id": "qecOIhf7anok"
      }
    },
    {
      "cell_type": "code",
      "source": [
        "import numpy as np\n",
        "\n",
        "def datos_aleatorios(actores, tomas):\n",
        "    data = np.random.randint(2, size=(actores, tomas)) #matriz aleatoria\n",
        "\n",
        "    for j in range(tomas): # se verifica que el actor tenga una toma. uno con uno= actor con toma\n",
        "        if np.sum(data[:, j]) == 0:\n",
        "            i = np.random.randint(actores)\n",
        "            data[i, j] = 1\n",
        "\n",
        "    return data\n",
        "\n",
        "actores = 10\n",
        "tomas = 30\n",
        "\n",
        "datos = datos_aleatorios(actores, tomas) #entrada de datos de forma aleatoria\n",
        "\n",
        "print(\"datos de entrada:\")\n",
        "print(datos)\n"
      ],
      "metadata": {
        "colab": {
          "base_uri": "https://localhost:8080/"
        },
        "id": "LHHQeDZ5a9hx",
        "outputId": "23ad4c88-a874-437e-c4a4-8dba3682b9fe"
      },
      "execution_count": 65,
      "outputs": [
        {
          "output_type": "stream",
          "name": "stdout",
          "text": [
            "datos de entrada:\n",
            "[[1 0 0 1 0 0 0 1 1 1 0 0 1 0 0 0 1 1 1 1 0 1 0 1 0 0 1 0 1 0]\n",
            " [0 0 0 0 1 1 0 0 1 0 1 0 1 0 0 1 1 0 0 1 0 0 1 0 1 0 1 0 0 0]\n",
            " [0 1 1 1 1 1 1 0 0 0 0 0 0 0 0 0 1 1 1 1 0 1 0 1 0 1 1 0 1 1]\n",
            " [0 1 1 1 0 0 1 0 1 0 1 0 1 1 1 0 1 1 0 1 0 1 1 0 1 0 1 0 0 0]\n",
            " [1 1 1 1 0 0 0 1 0 0 0 0 1 0 1 0 0 1 1 0 1 0 1 1 0 0 1 1 0 0]\n",
            " [0 1 0 0 0 1 0 1 1 1 0 0 1 0 1 0 1 1 0 0 1 1 1 0 0 1 0 1 1 0]\n",
            " [0 0 1 0 0 0 0 0 0 0 0 1 0 1 0 0 1 1 0 1 1 0 1 0 0 1 1 0 1 1]\n",
            " [0 1 1 1 0 0 1 0 0 1 0 1 1 1 1 1 0 0 0 1 0 0 1 1 0 0 0 0 0 1]\n",
            " [0 0 1 0 1 1 0 1 1 0 0 1 1 1 0 0 0 0 0 1 0 0 0 0 1 0 1 1 0 1]\n",
            " [0 1 0 1 1 1 1 0 1 0 1 0 0 1 1 0 0 0 1 1 0 0 0 0 1 0 1 1 1 1]]\n"
          ]
        }
      ]
    },
    {
      "cell_type": "markdown",
      "source": [
        "### Describe brevemente las lineas de como crees que es posible avanzar en el estudio del problema. Ten en cuenta incluso posibles variaciones del problema y/o variaciones al alza del tamaño"
      ],
      "metadata": {
        "id": "1Rt8KUC-bI-Y"
      }
    },
    {
      "cell_type": "markdown",
      "source": [
        "Se puede utilizar el algoritmo GRASP como se lo utilizo para mejorar la complejidad del problema, GRASP puede mejorar la estrategia de busqueda para ir construyendo soluciones mas optimas.\n",
        "Como se menciono en clases, existe un metodo heuristico llamado busqueda Tabu, se dice que con este metodo se puede encontrar una mejor solucion al problema ya que es un problema que maneja datos de gran tamaño y tener un mejor espacio de soluciones. Tabu tiene como caracteristicas, establece un mejor proceso de busqueda local, encuentra soluciones vecinas, elige y añade elementos a la nueva lista tabu, establece el tamaño de la lista y establece la regla de detención.\n",
        "Otro punto importante para el problema es la posibilidad de modificar las restricciones, ejemplo la disponibilidad de los actores en dias que ellos tengan libres, costos de movilidad y desplazamiento.\n",
        "\n"
      ],
      "metadata": {
        "id": "c-pp1ucsbO7_"
      }
    }
  ]
}