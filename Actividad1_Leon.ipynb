{
  "nbformat": 4,
  "nbformat_minor": 0,
  "metadata": {
    "colab": {
      "provenance": [],
      "authorship_tag": "ABX9TyMSXl0r5YUtpXyMEgkACHuz",
      "include_colab_link": true
    },
    "kernelspec": {
      "name": "python3",
      "display_name": "Python 3"
    },
    "language_info": {
      "name": "python"
    }
  },
  "cells": [
    {
      "cell_type": "markdown",
      "metadata": {
        "id": "view-in-github",
        "colab_type": "text"
      },
      "source": [
        "<a href=\"https://colab.research.google.com/github/LeonVaca/03MAIR---Algoritmos-de-optimizacion---2023/blob/main/Actividad1_Leon.ipynb\" target=\"_parent\"><img src=\"https://colab.research.google.com/assets/colab-badge.svg\" alt=\"Open In Colab\"/></a>"
      ]
    },
    {
      "cell_type": "markdown",
      "source": [
        "\n",
        "## Actividad Guiada 1\n",
        "## Iván Rodrigo León Vaca\n",
        "#### https://github.com/LeonVaca/03MAIR---Algoritmos-de-optimizacion---2023/blob/main/Actividad1_Leon.ipynb\n",
        "# Torres Hanoi"
      ],
      "metadata": {
        "id": "mrYeBKcmZAPe"
      }
    },
    {
      "cell_type": "code",
      "source": [
        "def torres (N,inicio,pivote,final):\n",
        "  if N==1:\n",
        "    print(f'movimiento bloque desde {inicio} a {final}')\n",
        "    return\n",
        "\n",
        "  torres(N-1, inicio, pivote, final)\n",
        "  print(f'mover bloque desde {inicio} a {final}')\n",
        "  torres(N-1, pivote, final, inicio)\n",
        "\n",
        "torres (4,1,3,2)\n"
      ],
      "metadata": {
        "colab": {
          "base_uri": "https://localhost:8080/"
        },
        "id": "ygowe6XEZDXq",
        "outputId": "52c67e61-9708-4e4a-d2b8-508debc94739"
      },
      "execution_count": null,
      "outputs": [
        {
          "output_type": "stream",
          "name": "stdout",
          "text": [
            "movimiento bloque desde 1 a 2\n",
            "mover bloque desde 1 a 2\n",
            "movimiento bloque desde 3 a 1\n",
            "mover bloque desde 1 a 2\n",
            "movimiento bloque desde 3 a 1\n",
            "mover bloque desde 3 a 1\n",
            "movimiento bloque desde 2 a 3\n",
            "mover bloque desde 1 a 2\n",
            "movimiento bloque desde 3 a 1\n",
            "mover bloque desde 3 a 1\n",
            "movimiento bloque desde 2 a 3\n",
            "mover bloque desde 3 a 1\n",
            "movimiento bloque desde 2 a 3\n",
            "mover bloque desde 2 a 3\n",
            "movimiento bloque desde 1 a 2\n"
          ]
        }
      ]
    },
    {
      "cell_type": "markdown",
      "source": [
        "#### DEVOLVER CAMBIO"
      ],
      "metadata": {
        "id": "_Xr6-c3wxHza"
      }
    },
    {
      "cell_type": "code",
      "source": [
        "def cambio_moneda(cantidad , sistema):\n",
        "  print('sistema: ')\n",
        "  print(sistema)\n",
        "\n",
        "  solucion= [0 for i in range(len(sistema))] #crea lista de ceros\n",
        "  valor_acumulado = 0\n",
        "\n",
        "  for i in range(len(sistema)):\n",
        "    monedas=int((cantidad-valor_acumulado)/sistema[1])\n",
        "    solucion[1]=monedas\n",
        "    valor_acumulado += monedas*sistema[i]\n",
        "    if valor_acumulado==cantidad: break\n",
        "\n",
        "  return solucion\n",
        "\n",
        "sistema=[25,10,5,1]\n",
        "cambio_moneda(54,sistema)"
      ],
      "metadata": {
        "colab": {
          "base_uri": "https://localhost:8080/"
        },
        "id": "S8FoMrlEy9AP",
        "outputId": "1ef83793-7b8f-46e5-f83b-631c91d6eb47"
      },
      "execution_count": null,
      "outputs": [
        {
          "output_type": "stream",
          "name": "stdout",
          "text": [
            "sistema: \n",
            "[25, 10, 5, 1]\n"
          ]
        },
        {
          "output_type": "execute_result",
          "data": {
            "text/plain": [
              "[0, 0, 0, 0]"
            ]
          },
          "metadata": {},
          "execution_count": 9
        }
      ]
    }
  ]
}